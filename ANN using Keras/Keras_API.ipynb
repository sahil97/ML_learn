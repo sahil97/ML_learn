{
 "cells": [
  {
   "cell_type": "code",
   "execution_count": 1,
   "metadata": {},
   "outputs": [],
   "source": [
    "import tensorflow as tf\n",
    "from tensorflow import keras\n",
    "import matplotlib.pyplot as plt \n",
    "import os"
   ]
  },
  {
   "cell_type": "code",
   "execution_count": 2,
   "metadata": {},
   "outputs": [],
   "source": [
    "fashion_mnist = keras.datasets.fashion_mnist"
   ]
  },
  {
   "cell_type": "code",
   "execution_count": 3,
   "metadata": {},
   "outputs": [],
   "source": [
    "(X_train_full, y_train_full), (X_test, y_test) = fashion_mnist.load_data()"
   ]
  },
  {
   "cell_type": "code",
   "execution_count": 4,
   "metadata": {},
   "outputs": [
    {
     "name": "stdout",
     "output_type": "stream",
     "text": [
      "(60000, 28, 28)\n",
      "(10000, 28, 28)\n",
      "(60000,)\n",
      "(10000,)\n"
     ]
    }
   ],
   "source": [
    "for df in (X_train_full, X_test, y_train_full, y_test):\n",
    "    print(df.shape)"
   ]
  },
  {
   "cell_type": "code",
   "execution_count": 5,
   "metadata": {},
   "outputs": [],
   "source": [
    "X_valid, X_train = X_train_full[:5000]/255.0, X_train_full[5000:]/255.0\n",
    "y_valid, y_train = y_train_full[:5000], y_train_full[5000:]"
   ]
  },
  {
   "cell_type": "code",
   "execution_count": 6,
   "metadata": {},
   "outputs": [],
   "source": [
    "class_names = [\"T-shirt/top\", \"Trouser\", \"Pullover\", \"Dress\", \"Coat\", \"Sandal\", \"Shirt\", \"Sneaker\", \"Bag\", \"Ankle boot\"]"
   ]
  },
  {
   "cell_type": "code",
   "execution_count": 7,
   "metadata": {},
   "outputs": [
    {
     "data": {
      "text/plain": [
       "'Pullover'"
      ]
     },
     "execution_count": 7,
     "metadata": {},
     "output_type": "execute_result"
    }
   ],
   "source": [
    "class_names[y_train[100]]"
   ]
  },
  {
   "cell_type": "code",
   "execution_count": 8,
   "metadata": {},
   "outputs": [
    {
     "data": {
      "text/plain": [
       "<matplotlib.image.AxesImage at 0x7f85f2c596a0>"
      ]
     },
     "execution_count": 8,
     "metadata": {},
     "output_type": "execute_result"
    },
    {
     "data": {
      "image/png": "[encoded data removed]",
      "text/plain": [
       "<Figure size 432x288 with 1 Axes>"
      ]
     },
     "metadata": {
      "needs_background": "light"
     },
     "output_type": "display_data"
    }
   ],
   "source": [
    "plt.imshow(X_train[0], cmap='gray')\n",
    "plt.imshow(X_train[5], cmap='gray')\n",
    "plt.imshow(X_train[100], cmap='gray')"
   ]
  },
  {
   "cell_type": "code",
   "execution_count": 9,
   "metadata": {},
   "outputs": [
    {
     "name": "stdout",
     "output_type": "stream",
     "text": [
      "WARNING:tensorflow:From /home/sahilsharma/venv/dlaas/lib/python3.5/site-packages/tensorflow/python/ops/resource_variable_ops.py:435: colocate_with (from tensorflow.python.framework.ops) is deprecated and will be removed in a future version.\n",
      "Instructions for updating:\n",
      "Colocations handled automatically by placer.\n"
     ]
    }
   ],
   "source": [
    "model = keras.models.Sequential([\n",
    "keras.layers.Flatten(input_shape=[28, 28]),\n",
    "keras.layers.BatchNormalization(),\n",
    "keras.layers.Dense(300, kernel_initializer=\"he_normal\", use_bias=False),\n",
    "keras.layers.BatchNormalization(),\n",
    "keras.layers.Activation(\"elu\"),\n",
    "keras.layers.Dense(100, kernel_initializer=\"he_normal\", use_bias=False),\n",
    "keras.layers.Activation(\"elu\"),\n",
    "keras.layers.BatchNormalization(),\n",
    "keras.layers.Dense(10, activation=\"softmax\")\n",
    "])"
   ]
  },
  {
   "cell_type": "code",
   "execution_count": 10,
   "metadata": {},
   "outputs": [
    {
     "name": "stdout",
     "output_type": "stream",
     "text": [
      "_________________________________________________________________\n",
      "Layer (type)                 Output Shape              Param #   \n",
      "=================================================================\n",
      "flatten (Flatten)            (None, 784)               0         \n",
      "_________________________________________________________________\n",
      "batch_normalization_v1 (Batc (None, 784)               3136      \n",
      "_________________________________________________________________\n",
      "dense (Dense)                (None, 300)               235200    \n",
      "_________________________________________________________________\n",
      "batch_normalization_v1_1 (Ba (None, 300)               1200      \n",
      "_________________________________________________________________\n",
      "activation (Activation)      (None, 300)               0         \n",
      "_________________________________________________________________\n",
      "dense_1 (Dense)              (None, 100)               30000     \n",
      "_________________________________________________________________\n",
      "activation_1 (Activation)    (None, 100)               0         \n",
      "_________________________________________________________________\n",
      "batch_normalization_v1_2 (Ba (None, 100)               400       \n",
      "_________________________________________________________________\n",
      "dense_2 (Dense)              (None, 10)                1010      \n",
      "=================================================================\n",
      "Total params: 270,946\n",
      "Trainable params: 268,578\n",
      "Non-trainable params: 2,368\n",
      "_________________________________________________________________\n"
     ]
    }
   ],
   "source": [
    "model.summary()"
   ]
  },
  {
   "cell_type": "code",
   "execution_count": 11,
   "metadata": {},
   "outputs": [],
   "source": [
    "keras.utils.plot_model(model)"
   ]
  },
  {
   "cell_type": "code",
   "execution_count": 12,
   "metadata": {},
   "outputs": [],
   "source": [
    "model.compile(loss='sparse_categorical_crossentropy',\n",
    "             optimizer=keras.optimizers.SGD(lr=0.05),\n",
    "             metrics=['accuracy'])"
   ]
  },
  {
   "cell_type": "code",
   "execution_count": 13,
   "metadata": {},
   "outputs": [],
   "source": [
    "root_logdir = os.path.join(os.curdir, \"my_logs\")\n",
    "def get_run_logdir():\n",
    "    import time\n",
    "    run_id = time.strftime(\"run_%Y_%m_%d-%H_%M_%S\")\n",
    "    return os.path.join(root_logdir, run_id)\n",
    "run_logdir = get_run_logdir()"
   ]
  },
  {
   "cell_type": "code",
   "execution_count": 14,
   "metadata": {},
   "outputs": [],
   "source": [
    "checkpoint_cb = keras.callbacks.ModelCheckpoint(\"keras_model.h5\", save_best_only=True)\n",
    "early_stopping_cb = keras.callbacks.EarlyStopping(patience=10,restore_best_weights=True)\n",
    "tensorboard_cb = keras.callbacks.TensorBoard(run_logdir)"
   ]
  },
  {
   "cell_type": "code",
   "execution_count": 15,
   "metadata": {},
   "outputs": [
    {
     "name": "stdout",
     "output_type": "stream",
     "text": [
      "Train on 55000 samples, validate on 5000 samples\n",
      "WARNING:tensorflow:From /home/sahilsharma/venv/dlaas/lib/python3.5/site-packages/tensorflow/python/ops/math_ops.py:3066: to_int32 (from tensorflow.python.ops.math_ops) is deprecated and will be removed in a future version.\n",
      "Instructions for updating:\n",
      "Use tf.cast instead.\n",
      "Epoch 1/50\n",
      "55000/55000 [==============================] - 8s 138us/sample - loss: 0.4872 - acc: 0.8242 - val_loss: 0.3755 - val_acc: 0.8656\n",
      "Epoch 2/50\n",
      "55000/55000 [==============================] - 7s 136us/sample - loss: 0.3817 - acc: 0.8626 - val_loss: 0.3462 - val_acc: 0.8700\n",
      "Epoch 3/50\n",
      "55000/55000 [==============================] - 7s 128us/sample - loss: 0.3482 - acc: 0.8724 - val_loss: 0.3197 - val_acc: 0.8858\n",
      "Epoch 4/50\n",
      "55000/55000 [==============================] - 7s 126us/sample - loss: 0.3237 - acc: 0.8825 - val_loss: 0.3138 - val_acc: 0.8854\n",
      "Epoch 5/50\n",
      "55000/55000 [==============================] - 7s 127us/sample - loss: 0.3049 - acc: 0.8879 - val_loss: 0.3261 - val_acc: 0.8796\n",
      "Epoch 6/50\n",
      "55000/55000 [==============================] - 7s 129us/sample - loss: 0.2904 - acc: 0.8934 - val_loss: 0.3015 - val_acc: 0.8916\n",
      "Epoch 7/50\n",
      "55000/55000 [==============================] - 7s 135us/sample - loss: 0.2754 - acc: 0.8976 - val_loss: 0.3032 - val_acc: 0.8904\n",
      "Epoch 8/50\n",
      "55000/55000 [==============================] - 8s 146us/sample - loss: 0.2659 - acc: 0.9019 - val_loss: 0.3086 - val_acc: 0.8900\n",
      "Epoch 9/50\n",
      "55000/55000 [==============================] - 8s 144us/sample - loss: 0.2533 - acc: 0.9054 - val_loss: 0.3104 - val_acc: 0.8918\n",
      "Epoch 10/50\n",
      "55000/55000 [==============================] - 8s 139us/sample - loss: 0.2451 - acc: 0.9100 - val_loss: 0.3143 - val_acc: 0.8904\n",
      "Epoch 11/50\n",
      "55000/55000 [==============================] - 8s 139us/sample - loss: 0.2373 - acc: 0.9110 - val_loss: 0.3249 - val_acc: 0.8816\n",
      "Epoch 12/50\n",
      "55000/55000 [==============================] - 7s 128us/sample - loss: 0.2301 - acc: 0.9146 - val_loss: 0.3005 - val_acc: 0.8912\n",
      "Epoch 13/50\n",
      "55000/55000 [==============================] - 7s 119us/sample - loss: 0.2236 - acc: 0.9159 - val_loss: 0.3299 - val_acc: 0.8860\n",
      "Epoch 14/50\n",
      "55000/55000 [==============================] - 7s 133us/sample - loss: 0.2166 - acc: 0.9196 - val_loss: 0.3024 - val_acc: 0.8942\n",
      "Epoch 15/50\n",
      "55000/55000 [==============================] - 7s 129us/sample - loss: 0.2097 - acc: 0.9210 - val_loss: 0.3145 - val_acc: 0.8928\n",
      "Epoch 16/50\n",
      "55000/55000 [==============================] - 7s 123us/sample - loss: 0.2000 - acc: 0.9252 - val_loss: 0.3149 - val_acc: 0.8936\n",
      "Epoch 17/50\n",
      "55000/55000 [==============================] - 6s 115us/sample - loss: 0.1978 - acc: 0.9256 - val_loss: 0.3049 - val_acc: 0.8944\n",
      "Epoch 18/50\n",
      "55000/55000 [==============================] - 6s 112us/sample - loss: 0.1916 - acc: 0.9290 - val_loss: 0.3197 - val_acc: 0.8938\n",
      "Epoch 19/50\n",
      "55000/55000 [==============================] - 7s 118us/sample - loss: 0.1840 - acc: 0.9306 - val_loss: 0.3121 - val_acc: 0.8960\n",
      "Epoch 20/50\n",
      "55000/55000 [==============================] - 7s 121us/sample - loss: 0.1795 - acc: 0.9337 - val_loss: 0.3321 - val_acc: 0.8912\n",
      "Epoch 21/50\n",
      "55000/55000 [==============================] - 6s 113us/sample - loss: 0.1752 - acc: 0.9334 - val_loss: 0.3272 - val_acc: 0.8888\n",
      "Epoch 22/50\n",
      "55000/55000 [==============================] - 6s 114us/sample - loss: 0.1724 - acc: 0.9367 - val_loss: 0.3235 - val_acc: 0.8918\n"
     ]
    }
   ],
   "source": [
    "history = model.fit(X_train, y_train, epochs=50,\n",
    "                   validation_data=(X_valid, y_valid),\n",
    "                   callbacks = [checkpoint_cb, early_stopping_cb, tensorboard_cb])"
   ]
  },
  {
   "cell_type": "code",
   "execution_count": 16,
   "metadata": {},
   "outputs": [
    {
     "data": {
      "text/plain": [
       "<function matplotlib.pyplot.show(*args, **kw)>"
      ]
     },
     "execution_count": 16,
     "metadata": {},
     "output_type": "execute_result"
    },
    {
     "data": {
      "image/png": "[encoded data removed]",
      "text/plain": [
       "<Figure size 576x360 with 1 Axes>"
      ]
     },
     "metadata": {
      "needs_background": "light"
     },
     "output_type": "display_data"
    }
   ],
   "source": [
    "import pandas as pd\n",
    "\n",
    "pd.DataFrame(history.history).plot(figsize=(8, 5))\n",
    "plt.grid(True)\n",
    "plt.gca().set_ylim(0,1)\n",
    "plt.show"
   ]
  },
  {
   "cell_type": "markdown",
   "metadata": {},
   "source": [
    "## REGRESSION USING SEQUENTIAL"
   ]
  },
  {
   "cell_type": "code",
   "execution_count": 19,
   "metadata": {},
   "outputs": [],
   "source": [
    "from sklearn.datasets import fetch_california_housing\n",
    "from sklearn.model_selection import train_test_split\n",
    "from sklearn.preprocessing import StandardScaler"
   ]
  },
  {
   "cell_type": "code",
   "execution_count": 20,
   "metadata": {},
   "outputs": [
    {
     "name": "stderr",
     "output_type": "stream",
     "text": [
      "Downloading Cal. housing from https://ndownloader.figshare.com/files/5976036 to /home/sahilsharma/scikit_learn_data\n",
      "WARNING: Logging before flag parsing goes to stderr.\n",
      "I0604 14:48:25.747327 140057040791296 california_housing.py:114] Downloading Cal. housing from https://ndownloader.figshare.com/files/5976036 to /home/sahilsharma/scikit_learn_data\n"
     ]
    }
   ],
   "source": [
    "housing = fetch_california_housing()\n",
    "X_train_full, X_test, y_train_full, y_test = train_test_split(housing.data, housing.target)\n",
    "X_train, X_valid, y_train, y_valid = train_test_split(X_train_full, y_train_full)\n",
    "\n",
    "scaler = StandardScaler()\n",
    "X_train_scaled = scaler.fit_transform(X_train)\n",
    "X_valid_scaled = scaler.transform(X_valid)\n",
    "X_test_scaled = scaler.transform(X_test)"
   ]
  },
  {
   "cell_type": "code",
   "execution_count": 23,
   "metadata": {},
   "outputs": [],
   "source": [
    "model = keras.models.Sequential([\n",
    "    keras.layers.Dense(30, activation='relu', input_shape=X_train.shape[1:]),\n",
    "    keras.layers.Dense(1)\n",
    "])"
   ]
  },
  {
   "cell_type": "code",
   "execution_count": 24,
   "metadata": {},
   "outputs": [
    {
     "name": "stdout",
     "output_type": "stream",
     "text": [
      "Train on 11610 samples, validate on 3870 samples\n",
      "Epoch 1/20\n",
      "11610/11610 [==============================] - 0s 34us/sample - loss: 899251415812038852608.0000 - val_loss: 250093025068318720.0000\n",
      "Epoch 2/20\n",
      "11610/11610 [==============================] - 0s 27us/sample - loss: 132147200960434736.0000 - val_loss: 58462042566164480.0000\n",
      "Epoch 3/20\n",
      "11610/11610 [==============================] - 0s 26us/sample - loss: 30890897804850208.0000 - val_loss: 13666165020753412.0000\n",
      "Epoch 4/20\n",
      "11610/11610 [==============================] - 0s 29us/sample - loss: 7221096631152765.0000 - val_loss: 3194623520391295.0000\n",
      "Epoch 5/20\n",
      "11610/11610 [==============================] - 0s 25us/sample - loss: 1688013917572368.5000 - val_loss: 746778494801211.8750\n",
      "Epoch 6/20\n",
      "11610/11610 [==============================] - 0s 25us/sample - loss: 394592296998689.3750 - val_loss: 174568173031570.0625\n",
      "Epoch 7/20\n",
      "11610/11610 [==============================] - 0s 27us/sample - loss: 92240511923737.4844 - val_loss: 40807323179112.7812\n",
      "Epoch 8/20\n",
      "11610/11610 [==============================] - 0s 26us/sample - loss: 21562258918596.3359 - val_loss: 9539157617161.7910\n",
      "Epoch 9/20\n",
      "11610/11610 [==============================] - 0s 31us/sample - loss: 5040416920688.7188 - val_loss: 2229886806893.4121\n",
      "Epoch 10/20\n",
      "11610/11610 [==============================] - 0s 29us/sample - loss: 1178255475695.5950 - val_loss: 521261793186.8610\n",
      "Epoch 11/20\n",
      "11610/11610 [==============================] - 0s 32us/sample - loss: 275430776096.7662 - val_loss: 121850996698.9561\n",
      "Epoch 12/20\n",
      "11610/11610 [==============================] - 0s 26us/sample - loss: 64385158155.1132 - val_loss: 28484097295.4791\n",
      "Epoch 13/20\n",
      "11610/11610 [==============================] - 0s 26us/sample - loss: 15050776347.2978 - val_loss: 6658476418.8444\n",
      "Epoch 14/20\n",
      "11610/11610 [==============================] - 0s 29us/sample - loss: 3518291193.2527 - val_loss: 1556498168.3266\n",
      "Epoch 15/20\n",
      "11610/11610 [==============================] - 0s 26us/sample - loss: 822442286.1009 - val_loss: 363849567.8346\n",
      "Epoch 16/20\n",
      "11610/11610 [==============================] - 0s 24us/sample - loss: 192255409.5711 - val_loss: 85053954.8568\n",
      "Epoch 17/20\n",
      "11610/11610 [==============================] - 0s 26us/sample - loss: 44941912.1647 - val_loss: 19882310.5912\n",
      "Epoch 18/20\n",
      "11610/11610 [==============================] - 0s 24us/sample - loss: 10505684.5683 - val_loss: 4647703.9749\n",
      "Epoch 19/20\n",
      "11610/11610 [==============================] - 0s 24us/sample - loss: 2455821.7420 - val_loss: 1086449.1811\n",
      "Epoch 20/20\n",
      "11610/11610 [==============================] - 0s 26us/sample - loss: 574076.8114 - val_loss: 253967.4536\n",
      "5160/5160 [==============================] - 0s 9us/sample - loss: 253949.9344\n",
      "[[506.01755]\n",
      " [506.01755]\n",
      " [506.01755]\n",
      " ...\n",
      " [506.01755]\n",
      " [506.01755]\n",
      " [506.01755]]\n"
     ]
    }
   ],
   "source": [
    "model.compile(loss=\"mean_squared_error\", optimizer=\"sgd\")\n",
    "history = model.fit(X_train, y_train, epochs = 20, validation_data=(X_valid, y_valid))\n",
    "mse_test = model.evaluate(X_test, y_test)\n",
    "print(model.predict(X_test[3:]))"
   ]
  },
  {
   "cell_type": "code",
   "execution_count": 25,
   "metadata": {},
   "outputs": [
    {
     "data": {
      "text/plain": [
       "253949.93442344962"
      ]
     },
     "execution_count": 25,
     "metadata": {},
     "output_type": "execute_result"
    }
   ],
   "source": [
    "mse_test"
   ]
  },
  {
   "cell_type": "markdown",
   "metadata": {},
   "source": [
    "## WIDE AND DEEP"
   ]
  },
  {
   "cell_type": "code",
   "execution_count": 41,
   "metadata": {},
   "outputs": [],
   "source": [
    "input = keras.layers.Input(shape=X_train.shape[1:])\n",
    "hidden1 = keras.layers.Dense(30, activation=\"relu\")(input)\n",
    "hidden2 = keras.layers.Dense(30, activation=\"relu\")(hidden1)\n",
    "concat = keras.layers.concatenate([input, hidden2])\n",
    "output = keras.layers.Dense(1)(concat)\n",
    "model = keras.models.Model(inputs=[input], outputs=[output])"
   ]
  },
  {
   "cell_type": "code",
   "execution_count": 43,
   "metadata": {},
   "outputs": [
    {
     "name": "stdout",
     "output_type": "stream",
     "text": [
      "Model: \"model_3\"\n",
      "__________________________________________________________________________________________________\n",
      "Layer (type)                    Output Shape         Param #     Connected to                     \n",
      "==================================================================================================\n",
      "input_12 (InputLayer)           [(None, 8)]          0                                            \n",
      "__________________________________________________________________________________________________\n",
      "dense_36 (Dense)                (None, 30)           270         input_12[0][0]                   \n",
      "__________________________________________________________________________________________________\n",
      "dense_37 (Dense)                (None, 30)           930         dense_36[0][0]                   \n",
      "__________________________________________________________________________________________________\n",
      "concatenate_11 (Concatenate)    (None, 38)           0           input_12[0][0]                   \n",
      "                                                                 dense_37[0][0]                   \n",
      "__________________________________________________________________________________________________\n",
      "dense_38 (Dense)                (None, 1)            39          concatenate_11[0][0]             \n",
      "==================================================================================================\n",
      "Total params: 1,239\n",
      "Trainable params: 1,239\n",
      "Non-trainable params: 0\n",
      "__________________________________________________________________________________________________\n"
     ]
    }
   ],
   "source": [
    "model.summary()"
   ]
  },
  {
   "cell_type": "code",
   "execution_count": 45,
   "metadata": {},
   "outputs": [],
   "source": [
    "# model.compile(loss=\"mean_squared_error\", optimizer=\"sgd\")\n",
    "# history = model.fit(X_train, y_train, epochs = 20, validation_data=(X_valid, y_valid))\n",
    "# mse_test = model.evaluate(X_test, y_test)\n",
    "# print(model.predict(X_test[3:]))"
   ]
  },
  {
   "cell_type": "code",
   "execution_count": null,
   "metadata": {},
   "outputs": [],
   "source": []
  }
 ],
 "metadata": {
  "kernelspec": {
   "display_name": "dlaas",
   "language": "python",
   "name": "dlaas"
  },
  "language_info": {
   "codemirror_mode": {
    "name": "ipython",
    "version": 3
   },
   "file_extension": ".py",
   "mimetype": "text/x-python",
   "name": "python",
   "nbconvert_exporter": "python",
   "pygments_lexer": "ipython3",
   "version": "3.5.2"
  }
 },
 "nbformat": 4,
 "nbformat_minor": 2
}
