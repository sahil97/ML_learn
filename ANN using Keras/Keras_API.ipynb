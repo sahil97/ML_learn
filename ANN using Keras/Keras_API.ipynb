{
 "cells": [
  {
   "cell_type": "code",
   "execution_count": 70,
   "metadata": {},
   "outputs": [],
   "source": [
    "import tensorflow as tf\n",
    "from tensorflow import keras\n",
    "import matplotlib.pyplot as plt \n",
    "import os"
   ]
  },
  {
   "cell_type": "code",
   "execution_count": 3,
   "metadata": {},
   "outputs": [],
   "source": [
    "fashion_mnist = keras.datasets.fashion_mnist"
   ]
  },
  {
   "cell_type": "code",
   "execution_count": 54,
   "metadata": {},
   "outputs": [],
   "source": [
    "(X_train_full, y_train_full), (X_test, y_test) = fashion_mnist.load_data()"
   ]
  },
  {
   "cell_type": "code",
   "execution_count": 55,
   "metadata": {},
   "outputs": [
    {
     "name": "stdout",
     "output_type": "stream",
     "text": [
      "(60000, 28, 28)\n",
      "(10000, 28, 28)\n",
      "(60000,)\n",
      "(10000,)\n"
     ]
    }
   ],
   "source": [
    "for df in (X_train_full, X_test, y_train_full, y_test):\n",
    "    print(df.shape)"
   ]
  },
  {
   "cell_type": "code",
   "execution_count": 56,
   "metadata": {},
   "outputs": [],
   "source": [
    "X_valid, X_train = X_train_full[:5000]/255.0, X_train_full[5000:]/255.0\n",
    "y_valid, y_train = y_train_full[:5000], y_train_full[5000:]"
   ]
  },
  {
   "cell_type": "code",
   "execution_count": 57,
   "metadata": {},
   "outputs": [],
   "source": [
    "class_names = [\"T-shirt/top\", \"Trouser\", \"Pullover\", \"Dress\", \"Coat\", \"Sandal\", \"Shirt\", \"Sneaker\", \"Bag\", \"Ankle boot\"]"
   ]
  },
  {
   "cell_type": "code",
   "execution_count": 58,
   "metadata": {},
   "outputs": [
    {
     "data": {
      "text/plain": [
       "'Pullover'"
      ]
     },
     "execution_count": 58,
     "metadata": {},
     "output_type": "execute_result"
    }
   ],
   "source": [
    "class_names[y_train[100]]"
   ]
  },
  {
   "cell_type": "code",
   "execution_count": 59,
   "metadata": {},
   "outputs": [
    {
     "data": {
      "text/plain": [
       "<matplotlib.image.AxesImage at 0x7f6135e5b550>"
      ]
     },
     "execution_count": 59,
     "metadata": {},
     "output_type": "execute_result"
    },
    {
     "data": {
      "image/png": "[encoded data removed]",
      "text/plain": [
       "<Figure size 432x288 with 1 Axes>"
      ]
     },
     "metadata": {
      "needs_background": "light"
     },
     "output_type": "display_data"
    }
   ],
   "source": [
    "plt.imshow(X_train[0], cmap='gray')\n",
    "plt.imshow(X_train[5], cmap='gray')\n",
    "plt.imshow(X_train[100], cmap='gray')"
   ]
  },
  {
   "cell_type": "code",
   "execution_count": 85,
   "metadata": {},
   "outputs": [],
   "source": [
    "model = keras.models.Sequential()\n",
    "model.add(keras.layers.Flatten(input_shape=[28,28]))  # Input\n",
    "model.add(keras.layers.Dense(300, activation=\"relu\")) # Hidden \n",
    "model.add(keras.layers.Dense(100, activation=\"relu\")) # Hidden\n",
    "model.add(keras.layers.Dense(10, activation=\"softmax\")) #Output"
   ]
  },
  {
   "cell_type": "code",
   "execution_count": 86,
   "metadata": {},
   "outputs": [
    {
     "name": "stdout",
     "output_type": "stream",
     "text": [
      "Model: \"sequential_5\"\n",
      "_________________________________________________________________\n",
      "Layer (type)                 Output Shape              Param #   \n",
      "=================================================================\n",
      "flatten_4 (Flatten)          (None, 784)               0         \n",
      "_________________________________________________________________\n",
      "dense_48 (Dense)             (None, 300)               235500    \n",
      "_________________________________________________________________\n",
      "dense_49 (Dense)             (None, 100)               30100     \n",
      "_________________________________________________________________\n",
      "dense_50 (Dense)             (None, 10)                1010      \n",
      "=================================================================\n",
      "Total params: 266,610\n",
      "Trainable params: 266,610\n",
      "Non-trainable params: 0\n",
      "_________________________________________________________________\n"
     ]
    }
   ],
   "source": [
    "model.summary()"
   ]
  },
  {
   "cell_type": "code",
   "execution_count": 87,
   "metadata": {},
   "outputs": [
    {
     "data": {
      "image/png": "[encoded data removed]",
      "text/plain": [
       "<IPython.core.display.Image object>"
      ]
     },
     "execution_count": 87,
     "metadata": {},
     "output_type": "execute_result"
    }
   ],
   "source": [
    "keras.utils.plot_model(model)"
   ]
  },
  {
   "cell_type": "code",
   "execution_count": 88,
   "metadata": {},
   "outputs": [],
   "source": [
    "model.compile(loss='sparse_categorical_crossentropy',\n",
    "             optimizer=keras.optimizers.SGD(lr=0.05),\n",
    "             metrics=['accuracy'])"
   ]
  },
  {
   "cell_type": "code",
   "execution_count": 89,
   "metadata": {},
   "outputs": [],
   "source": [
    "root_logdir = os.path.join(os.curdir, \"my_logs\")\n",
    "def get_run_logdir():\n",
    "    import time\n",
    "    run_id = time.strftime(\"run_%Y_%m_%d-%H_%M_%S\")\n",
    "    return os.path.join(root_logdir, run_id)\n",
    "run_logdir = get_run_logdir()"
   ]
  },
  {
   "cell_type": "code",
   "execution_count": 90,
   "metadata": {},
   "outputs": [],
   "source": [
    "checkpoint_cb = keras.callbacks.ModelCheckpoint(\"keras_model.h5\", save_best_only=True)\n",
    "early_stopping_cb = keras.callbacks.EarlyStopping(patience=10,restore_best_weights=True)\n",
    "tensorboard_cb = keras.callbacks.TensorBoard(run_logdir)"
   ]
  },
  {
   "cell_type": "code",
   "execution_count": 91,
   "metadata": {},
   "outputs": [
    {
     "name": "stdout",
     "output_type": "stream",
     "text": [
      "Train on 55000 samples, validate on 5000 samples\n",
      "Epoch 1/50\n",
      "55000/55000 [==============================] - 3s 55us/sample - loss: 0.5557 - accuracy: 0.8033 - val_loss: 0.3945 - val_accuracy: 0.8612\n",
      "Epoch 2/50\n",
      "55000/55000 [==============================] - 3s 55us/sample - loss: 0.4012 - accuracy: 0.8550 - val_loss: 0.3821 - val_accuracy: 0.8600\n",
      "Epoch 3/50\n",
      "55000/55000 [==============================] - 3s 51us/sample - loss: 0.3608 - accuracy: 0.8682 - val_loss: 0.3490 - val_accuracy: 0.8690\n",
      "Epoch 4/50\n",
      "55000/55000 [==============================] - 3s 57us/sample - loss: 0.3345 - accuracy: 0.8768 - val_loss: 0.3653 - val_accuracy: 0.8672\n",
      "Epoch 5/50\n",
      "55000/55000 [==============================] - 3s 49us/sample - loss: 0.3145 - accuracy: 0.8849 - val_loss: 0.3331 - val_accuracy: 0.8764\n",
      "Epoch 6/50\n",
      "55000/55000 [==============================] - 3s 54us/sample - loss: 0.2982 - accuracy: 0.8899 - val_loss: 0.3350 - val_accuracy: 0.8734\n",
      "Epoch 7/50\n",
      "55000/55000 [==============================] - 2s 39us/sample - loss: 0.2847 - accuracy: 0.8941 - val_loss: 0.3175 - val_accuracy: 0.8794\n",
      "Epoch 8/50\n",
      "55000/55000 [==============================] - 2s 42us/sample - loss: 0.2739 - accuracy: 0.8979 - val_loss: 0.3187 - val_accuracy: 0.8792\n",
      "Epoch 9/50\n",
      "55000/55000 [==============================] - 3s 46us/sample - loss: 0.2626 - accuracy: 0.9019 - val_loss: 0.4184 - val_accuracy: 0.8478\n",
      "Epoch 10/50\n",
      "55000/55000 [==============================] - 3s 50us/sample - loss: 0.2548 - accuracy: 0.9055 - val_loss: 0.2977 - val_accuracy: 0.8912\n",
      "Epoch 11/50\n",
      "55000/55000 [==============================] - 3s 46us/sample - loss: 0.2452 - accuracy: 0.9077 - val_loss: 0.3206 - val_accuracy: 0.8812\n",
      "Epoch 12/50\n",
      "55000/55000 [==============================] - 2s 45us/sample - loss: 0.2358 - accuracy: 0.9105 - val_loss: 0.3059 - val_accuracy: 0.8894\n",
      "Epoch 13/50\n",
      "55000/55000 [==============================] - 3s 50us/sample - loss: 0.2281 - accuracy: 0.9133 - val_loss: 0.3005 - val_accuracy: 0.8900\n",
      "Epoch 14/50\n",
      "55000/55000 [==============================] - 3s 51us/sample - loss: 0.2214 - accuracy: 0.9178 - val_loss: 0.2918 - val_accuracy: 0.8946\n",
      "Epoch 15/50\n",
      "55000/55000 [==============================] - 3s 56us/sample - loss: 0.2160 - accuracy: 0.9189 - val_loss: 0.2837 - val_accuracy: 0.8966\n",
      "Epoch 16/50\n",
      "55000/55000 [==============================] - 3s 54us/sample - loss: 0.2100 - accuracy: 0.9211 - val_loss: 0.3153 - val_accuracy: 0.8872\n",
      "Epoch 17/50\n",
      "55000/55000 [==============================] - 3s 57us/sample - loss: 0.2030 - accuracy: 0.9238 - val_loss: 0.3079 - val_accuracy: 0.8878\n",
      "Epoch 18/50\n",
      "55000/55000 [==============================] - 3s 54us/sample - loss: 0.1973 - accuracy: 0.9262 - val_loss: 0.2962 - val_accuracy: 0.8932\n",
      "Epoch 19/50\n",
      "55000/55000 [==============================] - 2s 44us/sample - loss: 0.1910 - accuracy: 0.9282 - val_loss: 0.3756 - val_accuracy: 0.8784\n",
      "Epoch 20/50\n",
      "55000/55000 [==============================] - 2s 42us/sample - loss: 0.1867 - accuracy: 0.9297 - val_loss: 0.2906 - val_accuracy: 0.8960\n",
      "Epoch 21/50\n",
      "55000/55000 [==============================] - 3s 51us/sample - loss: 0.1790 - accuracy: 0.9324 - val_loss: 0.3000 - val_accuracy: 0.8918\n",
      "Epoch 22/50\n",
      "55000/55000 [==============================] - 3s 56us/sample - loss: 0.1752 - accuracy: 0.9338 - val_loss: 0.3073 - val_accuracy: 0.8964\n",
      "Epoch 23/50\n",
      "55000/55000 [==============================] - 3s 60us/sample - loss: 0.1707 - accuracy: 0.9356 - val_loss: 0.2992 - val_accuracy: 0.8916\n",
      "Epoch 24/50\n",
      "55000/55000 [==============================] - 3s 50us/sample - loss: 0.1664 - accuracy: 0.9378 - val_loss: 0.2922 - val_accuracy: 0.8982\n",
      "Epoch 25/50\n",
      "55000/55000 [==============================] - 2s 45us/sample - loss: 0.1617 - accuracy: 0.9401 - val_loss: 0.2955 - val_accuracy: 0.8948\n"
     ]
    }
   ],
   "source": [
    "history = model.fit(X_train, y_train, epochs=50,\n",
    "                   validation_data=(X_valid, y_valid),\n",
    "                   callbacks = [checkpoint_cb, early_stopping_cb, tensorboard_cb])"
   ]
  },
  {
   "cell_type": "code",
   "execution_count": 69,
   "metadata": {},
   "outputs": [
    {
     "data": {
      "text/plain": [
       "<function matplotlib.pyplot.show(*args, **kw)>"
      ]
     },
     "execution_count": 69,
     "metadata": {},
     "output_type": "execute_result"
    },
    {
     "data": {
      "image/png": "[encoded data removed]",
      "text/plain": [
       "<Figure size 576x360 with 1 Axes>"
      ]
     },
     "metadata": {
      "needs_background": "light"
     },
     "output_type": "display_data"
    }
   ],
   "source": [
    "import pandas as pd\n",
    "\n",
    "pd.DataFrame(history.history).plot(figsize=(8, 5))\n",
    "plt.grid(True)\n",
    "plt.gca().set_ylim(0,1)\n",
    "plt.show"
   ]
  },
  {
   "cell_type": "markdown",
   "metadata": {},
   "source": [
    "## REGRESSION USING SEQUENTIAL"
   ]
  },
  {
   "cell_type": "code",
   "execution_count": 19,
   "metadata": {},
   "outputs": [],
   "source": [
    "from sklearn.datasets import fetch_california_housing\n",
    "from sklearn.model_selection import train_test_split\n",
    "from sklearn.preprocessing import StandardScaler"
   ]
  },
  {
   "cell_type": "code",
   "execution_count": 20,
   "metadata": {},
   "outputs": [
    {
     "name": "stderr",
     "output_type": "stream",
     "text": [
      "Downloading Cal. housing from https://ndownloader.figshare.com/files/5976036 to /home/sahilsharma/scikit_learn_data\n",
      "WARNING: Logging before flag parsing goes to stderr.\n",
      "I0604 14:48:25.747327 140057040791296 california_housing.py:114] Downloading Cal. housing from https://ndownloader.figshare.com/files/5976036 to /home/sahilsharma/scikit_learn_data\n"
     ]
    }
   ],
   "source": [
    "housing = fetch_california_housing()\n",
    "X_train_full, X_test, y_train_full, y_test = train_test_split(housing.data, housing.target)\n",
    "X_train, X_valid, y_train, y_valid = train_test_split(X_train_full, y_train_full)\n",
    "\n",
    "scaler = StandardScaler()\n",
    "X_train_scaled = scaler.fit_transform(X_train)\n",
    "X_valid_scaled = scaler.transform(X_valid)\n",
    "X_test_scaled = scaler.transform(X_test)"
   ]
  },
  {
   "cell_type": "code",
   "execution_count": 23,
   "metadata": {},
   "outputs": [],
   "source": [
    "model = keras.models.Sequential([\n",
    "    keras.layers.Dense(30, activation='relu', input_shape=X_train.shape[1:]),\n",
    "    keras.layers.Dense(1)\n",
    "])"
   ]
  },
  {
   "cell_type": "code",
   "execution_count": 24,
   "metadata": {},
   "outputs": [
    {
     "name": "stdout",
     "output_type": "stream",
     "text": [
      "Train on 11610 samples, validate on 3870 samples\n",
      "Epoch 1/20\n",
      "11610/11610 [==============================] - 0s 34us/sample - loss: 899251415812038852608.0000 - val_loss: 250093025068318720.0000\n",
      "Epoch 2/20\n",
      "11610/11610 [==============================] - 0s 27us/sample - loss: 132147200960434736.0000 - val_loss: 58462042566164480.0000\n",
      "Epoch 3/20\n",
      "11610/11610 [==============================] - 0s 26us/sample - loss: 30890897804850208.0000 - val_loss: 13666165020753412.0000\n",
      "Epoch 4/20\n",
      "11610/11610 [==============================] - 0s 29us/sample - loss: 7221096631152765.0000 - val_loss: 3194623520391295.0000\n",
      "Epoch 5/20\n",
      "11610/11610 [==============================] - 0s 25us/sample - loss: 1688013917572368.5000 - val_loss: 746778494801211.8750\n",
      "Epoch 6/20\n",
      "11610/11610 [==============================] - 0s 25us/sample - loss: 394592296998689.3750 - val_loss: 174568173031570.0625\n",
      "Epoch 7/20\n",
      "11610/11610 [==============================] - 0s 27us/sample - loss: 92240511923737.4844 - val_loss: 40807323179112.7812\n",
      "Epoch 8/20\n",
      "11610/11610 [==============================] - 0s 26us/sample - loss: 21562258918596.3359 - val_loss: 9539157617161.7910\n",
      "Epoch 9/20\n",
      "11610/11610 [==============================] - 0s 31us/sample - loss: 5040416920688.7188 - val_loss: 2229886806893.4121\n",
      "Epoch 10/20\n",
      "11610/11610 [==============================] - 0s 29us/sample - loss: 1178255475695.5950 - val_loss: 521261793186.8610\n",
      "Epoch 11/20\n",
      "11610/11610 [==============================] - 0s 32us/sample - loss: 275430776096.7662 - val_loss: 121850996698.9561\n",
      "Epoch 12/20\n",
      "11610/11610 [==============================] - 0s 26us/sample - loss: 64385158155.1132 - val_loss: 28484097295.4791\n",
      "Epoch 13/20\n",
      "11610/11610 [==============================] - 0s 26us/sample - loss: 15050776347.2978 - val_loss: 6658476418.8444\n",
      "Epoch 14/20\n",
      "11610/11610 [==============================] - 0s 29us/sample - loss: 3518291193.2527 - val_loss: 1556498168.3266\n",
      "Epoch 15/20\n",
      "11610/11610 [==============================] - 0s 26us/sample - loss: 822442286.1009 - val_loss: 363849567.8346\n",
      "Epoch 16/20\n",
      "11610/11610 [==============================] - 0s 24us/sample - loss: 192255409.5711 - val_loss: 85053954.8568\n",
      "Epoch 17/20\n",
      "11610/11610 [==============================] - 0s 26us/sample - loss: 44941912.1647 - val_loss: 19882310.5912\n",
      "Epoch 18/20\n",
      "11610/11610 [==============================] - 0s 24us/sample - loss: 10505684.5683 - val_loss: 4647703.9749\n",
      "Epoch 19/20\n",
      "11610/11610 [==============================] - 0s 24us/sample - loss: 2455821.7420 - val_loss: 1086449.1811\n",
      "Epoch 20/20\n",
      "11610/11610 [==============================] - 0s 26us/sample - loss: 574076.8114 - val_loss: 253967.4536\n",
      "5160/5160 [==============================] - 0s 9us/sample - loss: 253949.9344\n",
      "[[506.01755]\n",
      " [506.01755]\n",
      " [506.01755]\n",
      " ...\n",
      " [506.01755]\n",
      " [506.01755]\n",
      " [506.01755]]\n"
     ]
    }
   ],
   "source": [
    "model.compile(loss=\"mean_squared_error\", optimizer=\"sgd\")\n",
    "history = model.fit(X_train, y_train, epochs = 20, validation_data=(X_valid, y_valid))\n",
    "mse_test = model.evaluate(X_test, y_test)\n",
    "print(model.predict(X_test[3:]))"
   ]
  },
  {
   "cell_type": "code",
   "execution_count": 25,
   "metadata": {},
   "outputs": [
    {
     "data": {
      "text/plain": [
       "253949.93442344962"
      ]
     },
     "execution_count": 25,
     "metadata": {},
     "output_type": "execute_result"
    }
   ],
   "source": [
    "mse_test"
   ]
  },
  {
   "cell_type": "markdown",
   "metadata": {},
   "source": [
    "## WIDE AND DEEP"
   ]
  },
  {
   "cell_type": "code",
   "execution_count": 41,
   "metadata": {},
   "outputs": [],
   "source": [
    "input = keras.layers.Input(shape=X_train.shape[1:])\n",
    "hidden1 = keras.layers.Dense(30, activation=\"relu\")(input)\n",
    "hidden2 = keras.layers.Dense(30, activation=\"relu\")(hidden1)\n",
    "concat = keras.layers.concatenate([input, hidden2])\n",
    "output = keras.layers.Dense(1)(concat)\n",
    "model = keras.models.Model(inputs=[input], outputs=[output])"
   ]
  },
  {
   "cell_type": "code",
   "execution_count": 43,
   "metadata": {},
   "outputs": [
    {
     "name": "stdout",
     "output_type": "stream",
     "text": [
      "Model: \"model_3\"\n",
      "__________________________________________________________________________________________________\n",
      "Layer (type)                    Output Shape         Param #     Connected to                     \n",
      "==================================================================================================\n",
      "input_12 (InputLayer)           [(None, 8)]          0                                            \n",
      "__________________________________________________________________________________________________\n",
      "dense_36 (Dense)                (None, 30)           270         input_12[0][0]                   \n",
      "__________________________________________________________________________________________________\n",
      "dense_37 (Dense)                (None, 30)           930         dense_36[0][0]                   \n",
      "__________________________________________________________________________________________________\n",
      "concatenate_11 (Concatenate)    (None, 38)           0           input_12[0][0]                   \n",
      "                                                                 dense_37[0][0]                   \n",
      "__________________________________________________________________________________________________\n",
      "dense_38 (Dense)                (None, 1)            39          concatenate_11[0][0]             \n",
      "==================================================================================================\n",
      "Total params: 1,239\n",
      "Trainable params: 1,239\n",
      "Non-trainable params: 0\n",
      "__________________________________________________________________________________________________\n"
     ]
    }
   ],
   "source": [
    "model.summary()"
   ]
  },
  {
   "cell_type": "code",
   "execution_count": 45,
   "metadata": {},
   "outputs": [],
   "source": [
    "# model.compile(loss=\"mean_squared_error\", optimizer=\"sgd\")\n",
    "# history = model.fit(X_train, y_train, epochs = 20, validation_data=(X_valid, y_valid))\n",
    "# mse_test = model.evaluate(X_test, y_test)\n",
    "# print(model.predict(X_test[3:]))"
   ]
  },
  {
   "cell_type": "code",
   "execution_count": null,
   "metadata": {},
   "outputs": [],
   "source": []
  }
 ],
 "metadata": {
  "kernelspec": {
   "display_name": "dlaas",
   "language": "python",
   "name": "dlaas"
  },
  "language_info": {
   "codemirror_mode": {
    "name": "ipython",
    "version": 3
   },
   "file_extension": ".py",
   "mimetype": "text/x-python",
   "name": "python",
   "nbconvert_exporter": "python",
   "pygments_lexer": "ipython3",
   "version": "3.5.2"
  }
 },
 "nbformat": 4,
 "nbformat_minor": 2
}
