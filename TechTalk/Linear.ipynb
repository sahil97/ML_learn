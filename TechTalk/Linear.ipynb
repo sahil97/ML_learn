{
 "cells": [
  {
   "cell_type": "code",
   "execution_count": 1,
   "metadata": {},
   "outputs": [],
   "source": [
    "import numpy as np\n",
    "import matplotlib.pyplot as plt\n",
    "from matplotlib import animation\n",
    "import time\n",
    "# %matplotlib inline"
   ]
  },
  {
   "cell_type": "code",
   "execution_count": 2,
   "metadata": {},
   "outputs": [],
   "source": [
    "np.random.seed(0)\n",
    "X = np.random.rand(100, 1) # Geneating random numbers from [0,1]\n",
    "y = 2 + 3 * X + np.random.rand(100, 1) # Y = 2 + 3x + Noise\n",
    "y_no_noise = 2 + 3 * X"
   ]
  },
  {
   "cell_type": "code",
   "execution_count": 3,
   "metadata": {},
   "outputs": [
    {
     "name": "stdout",
     "output_type": "stream",
     "text": [
      "Y with No noise\n"
     ]
    },
    {
     "data": {
      "image/png": "[encoded data removed]",
      "text/plain": [
       "<Figure size 432x288 with 1 Axes>"
      ]
     },
     "metadata": {
      "needs_background": "light"
     },
     "output_type": "display_data"
    }
   ],
   "source": [
    "print(\"Y with No noise\")\n",
    "plt.scatter(X, y_no_noise, s=10)\n",
    "plt.xlabel('x')\n",
    "plt.ylabel('y')\n",
    "plt.ylim(bottom=0)\n",
    "plt.show()"
   ]
  },
  {
   "cell_type": "code",
   "execution_count": 4,
   "metadata": {},
   "outputs": [
    {
     "data": {
      "image/png": "[encoded data removed]",
      "text/plain": [
       "<Figure size 432x288 with 1 Axes>"
      ]
     },
     "metadata": {
      "needs_background": "light"
     },
     "output_type": "display_data"
    }
   ],
   "source": [
    "plt.scatter(X, y, s=10)\n",
    "plt.xlabel('x')\n",
    "plt.ylabel('y')\n",
    "plt.ylim(bottom=0)\n",
    "plt.show()"
   ]
  },
  {
   "cell_type": "code",
   "execution_count": 41,
   "metadata": {},
   "outputs": [],
   "source": [
    "l = 0.01 # Learning Rate\n",
    "n_iterations = 10000 # No of times the gradient descent will run"
   ]
  },
  {
   "cell_type": "code",
   "execution_count": 42,
   "metadata": {},
   "outputs": [],
   "source": [
    "cost_ = [] # Costs array\n",
    "w_ = 0 # Weights\n",
    "m = X.shape[0] # no. of samples\n",
    "b_ = 0 # Bias"
   ]
  },
  {
   "cell_type": "code",
   "execution_count": 43,
   "metadata": {},
   "outputs": [
    {
     "name": "stdout",
     "output_type": "stream",
     "text": [
      "on Iter:  0\n",
      "on Iter:  100\n",
      "on Iter:  200\n",
      "on Iter:  300\n",
      "on Iter:  400\n",
      "on Iter:  500\n",
      "on Iter:  600\n",
      "on Iter:  700\n",
      "on Iter:  800\n",
      "on Iter:  900\n",
      "on Iter:  1000\n",
      "on Iter:  1100\n",
      "on Iter:  1200\n",
      "on Iter:  1300\n",
      "on Iter:  1400\n",
      "on Iter:  1500\n",
      "on Iter:  1600\n",
      "on Iter:  1700\n",
      "on Iter:  1800\n",
      "on Iter:  1900\n",
      "on Iter:  2000\n",
      "on Iter:  2100\n",
      "on Iter:  2200\n",
      "on Iter:  2300\n",
      "on Iter:  2400\n",
      "on Iter:  2500\n",
      "on Iter:  2600\n",
      "on Iter:  2700\n",
      "on Iter:  2800\n",
      "on Iter:  2900\n",
      "on Iter:  3000\n",
      "on Iter:  3100\n",
      "on Iter:  3200\n",
      "on Iter:  3300\n",
      "on Iter:  3400\n",
      "on Iter:  3500\n",
      "on Iter:  3600\n",
      "on Iter:  3700\n",
      "on Iter:  3800\n",
      "on Iter:  3900\n",
      "on Iter:  4000\n",
      "on Iter:  4100\n",
      "on Iter:  4200\n",
      "on Iter:  4300\n",
      "on Iter:  4400\n",
      "on Iter:  4500\n",
      "on Iter:  4600\n",
      "on Iter:  4700\n",
      "on Iter:  4800\n",
      "on Iter:  4900\n",
      "on Iter:  5000\n",
      "on Iter:  5100\n",
      "on Iter:  5200\n",
      "on Iter:  5300\n",
      "on Iter:  5400\n",
      "on Iter:  5500\n",
      "on Iter:  5600\n",
      "on Iter:  5700\n",
      "on Iter:  5800\n",
      "on Iter:  5900\n",
      "on Iter:  6000\n",
      "on Iter:  6100\n",
      "on Iter:  6200\n",
      "on Iter:  6300\n",
      "on Iter:  6400\n",
      "on Iter:  6500\n",
      "on Iter:  6600\n",
      "on Iter:  6700\n",
      "on Iter:  6800\n",
      "on Iter:  6900\n",
      "on Iter:  7000\n",
      "on Iter:  7100\n",
      "on Iter:  7200\n",
      "on Iter:  7300\n",
      "on Iter:  7400\n",
      "on Iter:  7500\n",
      "on Iter:  7600\n",
      "on Iter:  7700\n",
      "on Iter:  7800\n",
      "on Iter:  7900\n",
      "on Iter:  8000\n",
      "on Iter:  8100\n",
      "on Iter:  8200\n",
      "on Iter:  8300\n",
      "on Iter:  8400\n",
      "on Iter:  8500\n",
      "on Iter:  8600\n",
      "on Iter:  8700\n",
      "on Iter:  8800\n",
      "on Iter:  8900\n",
      "on Iter:  9000\n",
      "on Iter:  9100\n",
      "on Iter:  9200\n",
      "on Iter:  9300\n",
      "on Iter:  9400\n",
      "on Iter:  9500\n",
      "on Iter:  9600\n",
      "on Iter:  9700\n",
      "on Iter:  9800\n",
      "on Iter:  9900\n"
     ]
    }
   ],
   "source": [
    "for iter in range(n_iterations):\n",
    "    y_pred = b_ + (w_ * X)\n",
    "    D_m = (-2/m) * sum(X * (y - y_pred))\n",
    "    D_c = (-2/m) * sum(y - y_pred)\n",
    "    w_ = w_ - (l * D_m)\n",
    "    b_ = b_ - (l * D_c)\n",
    "    y_pred = b_ + (w_ * X)\n",
    "\n",
    "    if((iter % 100) == 0):\n",
    "        print(\"on Iter: \",iter)\n",
    "\n",
    "    if((iter % 10) == 0):\n",
    "        fig = plt.figure()\n",
    "        ax = fig.add_subplot(111)\n",
    "        ax.scatter(X, y)\n",
    "        line = ax.plot([min(X), max(X)], [min(y_pred), max(y_pred)], 'r-')\n",
    "        plt.ylim(bottom=0)\n",
    "        fig.savefig('graphs/graph'+str(iter)+'.png')\n",
    "        plt.close()"
   ]
  },
  {
   "cell_type": "code",
   "execution_count": 44,
   "metadata": {},
   "outputs": [],
   "source": [
    "y_pred = b_ + (w_ * X)"
   ]
  },
  {
   "cell_type": "code",
   "execution_count": 45,
   "metadata": {},
   "outputs": [],
   "source": [
    "import os,sys\n",
    "import datetime\n",
    "import imageio\n",
    "from pprint import pprint\n",
    "import time\n",
    "import datetime\n",
    " \n",
    "def create_gif(filenames, duration):\n",
    "    images = []\n",
    "    for filename in filenames:\n",
    "        images.append(imageio.imread(filename))\n",
    "    output_file = 'Gif-%s.gif' % datetime.datetime.now().strftime('%Y-%M-%d-%H-%M-%S')\n",
    "    imageio.mimsave(output_file, images, duration=duration)\n",
    " "
   ]
  },
  {
   "cell_type": "code",
   "execution_count": 46,
   "metadata": {},
   "outputs": [],
   "source": [
    "f = []\n",
    "for (dirpath, dirnames, filenames) in os.walk(\"graphs\"):\n",
    "    f.extend(filenames)\n",
    "    f = f[:len(f)-1]"
   ]
  },
  {
   "cell_type": "code",
   "execution_count": 47,
   "metadata": {},
   "outputs": [],
   "source": [
    "for i, file in enumerate(f):\n",
    "    f[i] = \"graphs/\" + str(file)"
   ]
  },
  {
   "cell_type": "code",
   "execution_count": 48,
   "metadata": {},
   "outputs": [],
   "source": [
    "create_gif(f, 0.2)"
   ]
  },
  {
   "cell_type": "code",
   "execution_count": 54,
   "metadata": {},
   "outputs": [
    {
     "name": "stdout",
     "output_type": "stream",
     "text": [
      "final Cost/Error : 0.07623324582906701\n"
     ]
    }
   ],
   "source": [
    "from sklearn.metrics import mean_squared_error\n",
    "print(\"final Cost/Error :\", mean_squared_error(y_pred, y))"
   ]
  },
  {
   "cell_type": "code",
   "execution_count": null,
   "metadata": {},
   "outputs": [],
   "source": []
  }
 ],
 "metadata": {
  "kernelspec": {
   "display_name": "dlaas",
   "language": "python",
   "name": "dlaas"
  },
  "language_info": {
   "codemirror_mode": {
    "name": "ipython",
    "version": 3
   },
   "file_extension": ".py",
   "mimetype": "text/x-python",
   "name": "python",
   "nbconvert_exporter": "python",
   "pygments_lexer": "ipython3",
   "version": "3.5.2"
  }
 },
 "nbformat": 4,
 "nbformat_minor": 2
}
