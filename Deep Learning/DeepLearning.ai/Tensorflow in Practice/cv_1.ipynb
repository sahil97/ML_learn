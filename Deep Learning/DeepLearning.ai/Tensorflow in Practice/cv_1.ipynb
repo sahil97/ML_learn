{
 "cells": [
  {
   "cell_type": "code",
   "execution_count": 87,
   "metadata": {},
   "outputs": [],
   "source": [
    "import tensorflow as tf\n",
    "from tensorflow import keras\n",
    "import numpy as np\n",
    "import matplotlib.pyplot as plt\n",
    "import timeit\n",
    "%matplotlib inline"
   ]
  },
  {
   "cell_type": "code",
   "execution_count": 78,
   "metadata": {},
   "outputs": [],
   "source": [
    "class myCallback(tf.keras.callbacks.Callback):\n",
    "    def on_epoch_end(self, epoch, logs={}):\n",
    "        if(logs.get('loss') < 0.5):\n",
    "          print(\"\\nReached 0.4 loss so cancelling training!\")\n",
    "          self.model.stop_training = True\n",
    "\n",
    "cb = myCallback()"
   ]
  },
  {
   "cell_type": "code",
   "execution_count": 79,
   "metadata": {},
   "outputs": [],
   "source": [
    "(train_data, train_labels), (test_data, test_labels) = keras.datasets.fashion_mnist.load_data()"
   ]
  },
  {
   "cell_type": "code",
   "execution_count": 48,
   "metadata": {},
   "outputs": [
    {
     "name": "stdout",
     "output_type": "stream",
     "text": [
      "9\n"
     ]
    },
    {
     "data": {
      "image/png": "[encoded data removed]",
      "text/plain": [
       "<Figure size 432x288 with 1 Axes>"
      ]
     },
     "metadata": {
      "needs_background": "light"
     },
     "output_type": "display_data"
    }
   ],
   "source": [
    "plt.imshow(train_data[0], cmap='gray')\n",
    "print(train_labels[0])"
   ]
  },
  {
   "cell_type": "code",
   "execution_count": 49,
   "metadata": {},
   "outputs": [],
   "source": [
    "model = keras.models.Sequential([\n",
    "    keras.layers.Flatten(input_shape=[28,28]),\n",
    "    keras.layers.Dense(units = 128, activation='relu'),\n",
    "    keras.layers.Dense(units=10, activation='softmax')\n",
    "])"
   ]
  },
  {
   "cell_type": "code",
   "execution_count": 50,
   "metadata": {},
   "outputs": [],
   "source": [
    "http://localhost:9898/?token=e68cb43f2813e23f4ee7fe0118c1e468b8bfc527280e3751\n",
    "model.compile(\n",
    "    optimizer = keras.optimizers.Adam(learning_rate=0.001),\n",
    "    loss = 'sparse_categorical_crossentropy',\n",
    "    metrics = ['accuracy'],\n",
    ")"
   ]
  },
  {
   "cell_type": "code",
   "execution_count": 51,
   "metadata": {},
   "outputs": [
    {
     "name": "stdout",
     "output_type": "stream",
     "text": [
      "Train on 60000 samples\n",
      "Epoch 1/50\n",
      "60000/60000 [==============================] - 3s 45us/sample - loss: 3.6105 - accuracy: 0.7052\n",
      "Epoch 2/50\n",
      "60000/60000 [==============================] - 3s 42us/sample - loss: 0.6532 - accuracy: 0.7691\n",
      "Epoch 3/50\n",
      "60000/60000 [==============================] - 3s 42us/sample - loss: 0.5896 - accuracy: 0.7929\n",
      "Epoch 4/50\n",
      "60000/60000 [==============================] - 3s 42us/sample - loss: 0.5474 - accuracy: 0.8117\n",
      "Epoch 5/50\n",
      "60000/60000 [==============================] - 3s 43us/sample - loss: 0.5125 - accuracy: 0.8216\n",
      "Epoch 6/50\n",
      "59744/60000 [============================>.] - ETA: 0s - loss: 0.4982 - accuracy: 0.8277\n",
      "Reached 60% accuracy so cancelling training!\n",
      "60000/60000 [==============================] - 3s 44us/sample - loss: 0.4984 - accuracy: 0.8275\n",
      "Time:  15.579793503995461\n"
     ]
    }
   ],
   "source": [
    "start = timeit.default_timer()\n",
    "\n",
    "model.fit(train_data, train_labels, epochs=50, verbose=1, callbacks = [cb])\n",
    "\n",
    "stop = timeit.default_timer()\n",
    "\n",
    "print('Time: ', stop - start)"
   ]
  },
  {
   "cell_type": "code",
   "execution_count": null,
   "metadata": {},
   "outputs": [],
   "source": [
    "start = timeit.default_timer()\n",
    "\n",
    "print(model.evaluate(x = test_data, y = test_labels, verbose=0))\n",
    "\n",
    "stop = timeit.default_timer()\n",
    "\n",
    "print('Time: ', stop - start)"
   ]
  },
  {
   "cell_type": "markdown",
   "metadata": {},
   "source": [
    "## Sacled training images and test images"
   ]
  },
  {
   "cell_type": "code",
   "execution_count": 8,
   "metadata": {},
   "outputs": [],
   "source": [
    "train_data = train_data / 255.0\n",
    "test_data = test_data / 255.0"
   ]
  },
  {
   "cell_type": "code",
   "execution_count": 9,
   "metadata": {},
   "outputs": [],
   "source": [
    "model = keras.models.Sequential([\n",
    "    keras.layers.Flatten(input_shape=[28,28]),\n",
    "    keras.layers.Dense(units = 128, activation='relu'),\n",
    "    keras.layers.Dense(units=10, activation='softmax')\n",
    "])"
   ]
  },
  {
   "cell_type": "code",
   "execution_count": 10,
   "metadata": {},
   "outputs": [],
   "source": [
    "model.compile(\n",
    "    optimizer = keras.optimizers.Adam(learning_rate=0.001),\n",
    "    loss = 'sparse_categorical_crossentropy',\n",
    "    metrics = ['accuracy']\n",
    ")"
   ]
  },
  {
   "cell_type": "code",
   "execution_count": 11,
   "metadata": {},
   "outputs": [
    {
     "name": "stdout",
     "output_type": "stream",
     "text": [
      "Train on 60000 samples\n",
      "Epoch 1/50\n",
      "60000/60000 [==============================] - 3s 45us/sample - loss: 0.4924 - accuracy: 0.8262\n",
      "Epoch 2/50\n",
      "60000/60000 [==============================] - 2s 38us/sample - loss: 0.3710 - accuracy: 0.8663\n",
      "Epoch 3/50\n",
      "60000/60000 [==============================] - 2s 38us/sample - loss: 0.3329 - accuracy: 0.8787\n",
      "Epoch 4/50\n",
      "60000/60000 [==============================] - 2s 39us/sample - loss: 0.3087 - accuracy: 0.8858\n",
      "Epoch 5/50\n",
      "60000/60000 [==============================] - 2s 38us/sample - loss: 0.2904 - accuracy: 0.8942\n",
      "Epoch 6/50\n",
      "60000/60000 [==============================] - 2s 41us/sample - loss: 0.2767 - accuracy: 0.8971\n",
      "Epoch 7/50\n",
      "60000/60000 [==============================] - 2s 40us/sample - loss: 0.2649 - accuracy: 0.9018\n",
      "Epoch 8/50\n",
      "60000/60000 [==============================] - 2s 38us/sample - loss: 0.2548 - accuracy: 0.9042\n",
      "Epoch 9/50\n",
      "60000/60000 [==============================] - 2s 38us/sample - loss: 0.2438 - accuracy: 0.9084\n",
      "Epoch 10/50\n",
      "60000/60000 [==============================] - 2s 39us/sample - loss: 0.2362 - accuracy: 0.9120\n",
      "Epoch 11/50\n",
      "60000/60000 [==============================] - 2s 39us/sample - loss: 0.2296 - accuracy: 0.9139\n",
      "Epoch 12/50\n",
      "60000/60000 [==============================] - 2s 39us/sample - loss: 0.2230 - accuracy: 0.9165\n",
      "Epoch 13/50\n",
      "60000/60000 [==============================] - 2s 39us/sample - loss: 0.2155 - accuracy: 0.9184\n",
      "Epoch 14/50\n",
      "60000/60000 [==============================] - 2s 39us/sample - loss: 0.2083 - accuracy: 0.9217\n",
      "Epoch 15/50\n",
      "60000/60000 [==============================] - 2s 39us/sample - loss: 0.2035 - accuracy: 0.9235\n",
      "Epoch 16/50\n",
      "60000/60000 [==============================] - 2s 39us/sample - loss: 0.1981 - accuracy: 0.9257\n",
      "Epoch 17/50\n",
      "60000/60000 [==============================] - 2s 39us/sample - loss: 0.1940 - accuracy: 0.9265\n",
      "Epoch 18/50\n",
      "60000/60000 [==============================] - 2s 39us/sample - loss: 0.1891 - accuracy: 0.9287\n",
      "Epoch 19/50\n",
      "60000/60000 [==============================] - 2s 39us/sample - loss: 0.1835 - accuracy: 0.9317\n",
      "Epoch 20/50\n",
      "60000/60000 [==============================] - 2s 39us/sample - loss: 0.1771 - accuracy: 0.9331\n",
      "Epoch 21/50\n",
      "60000/60000 [==============================] - 2s 39us/sample - loss: 0.1753 - accuracy: 0.9339\n",
      "Epoch 22/50\n",
      "60000/60000 [==============================] - 2s 39us/sample - loss: 0.1699 - accuracy: 0.9350\n",
      "Epoch 23/50\n",
      "60000/60000 [==============================] - 2s 39us/sample - loss: 0.1674 - accuracy: 0.9359\n",
      "Epoch 24/50\n",
      "60000/60000 [==============================] - 2s 39us/sample - loss: 0.1620 - accuracy: 0.9379\n",
      "Epoch 25/50\n",
      "60000/60000 [==============================] - 2s 39us/sample - loss: 0.1583 - accuracy: 0.9400\n",
      "Epoch 26/50\n",
      "60000/60000 [==============================] - 2s 39us/sample - loss: 0.1531 - accuracy: 0.9410\n",
      "Epoch 27/50\n",
      "60000/60000 [==============================] - 2s 39us/sample - loss: 0.1513 - accuracy: 0.9428\n",
      "Epoch 28/50\n",
      "60000/60000 [==============================] - 2s 39us/sample - loss: 0.1476 - accuracy: 0.9437\n",
      "Epoch 29/50\n",
      "60000/60000 [==============================] - 2s 39us/sample - loss: 0.1457 - accuracy: 0.9442\n",
      "Epoch 30/50\n",
      "60000/60000 [==============================] - 2s 39us/sample - loss: 0.1424 - accuracy: 0.9465\n",
      "Epoch 31/50\n",
      "60000/60000 [==============================] - 2s 39us/sample - loss: 0.1374 - accuracy: 0.9484\n",
      "Epoch 32/50\n",
      "60000/60000 [==============================] - 2s 39us/sample - loss: 0.1376 - accuracy: 0.9482\n",
      "Epoch 33/50\n",
      "60000/60000 [==============================] - 2s 39us/sample - loss: 0.1334 - accuracy: 0.9499\n",
      "Epoch 34/50\n",
      "60000/60000 [==============================] - 2s 40us/sample - loss: 0.1308 - accuracy: 0.9508\n",
      "Epoch 35/50\n",
      "60000/60000 [==============================] - 2s 39us/sample - loss: 0.1286 - accuracy: 0.9519\n",
      "Epoch 36/50\n",
      "60000/60000 [==============================] - 2s 39us/sample - loss: 0.1265 - accuracy: 0.9521\n",
      "Epoch 37/50\n",
      "60000/60000 [==============================] - 2s 39us/sample - loss: 0.1234 - accuracy: 0.9535\n",
      "Epoch 38/50\n",
      "60000/60000 [==============================] - 2s 39us/sample - loss: 0.1218 - accuracy: 0.9540\n",
      "Epoch 39/50\n",
      "60000/60000 [==============================] - 2s 39us/sample - loss: 0.1190 - accuracy: 0.9550\n",
      "Epoch 40/50\n",
      "60000/60000 [==============================] - 2s 39us/sample - loss: 0.1152 - accuracy: 0.9565\n",
      "Epoch 41/50\n",
      "60000/60000 [==============================] - 2s 39us/sample - loss: 0.1145 - accuracy: 0.9566\n",
      "Epoch 42/50\n",
      "60000/60000 [==============================] - 2s 40us/sample - loss: 0.1130 - accuracy: 0.9569\n",
      "Epoch 43/50\n",
      "60000/60000 [==============================] - 2s 40us/sample - loss: 0.1104 - accuracy: 0.9583\n",
      "Epoch 44/50\n",
      "60000/60000 [==============================] - 2s 40us/sample - loss: 0.1080 - accuracy: 0.9586\n",
      "Epoch 45/50\n",
      "60000/60000 [==============================] - 2s 40us/sample - loss: 0.1069 - accuracy: 0.9599\n",
      "Epoch 46/50\n",
      "60000/60000 [==============================] - 2s 40us/sample - loss: 0.1035 - accuracy: 0.9613\n",
      "Epoch 47/50\n",
      "60000/60000 [==============================] - 2s 40us/sample - loss: 0.1025 - accuracy: 0.9612\n",
      "Epoch 48/50\n",
      "60000/60000 [==============================] - 2s 40us/sample - loss: 0.1010 - accuracy: 0.9623\n",
      "Epoch 49/50\n",
      "60000/60000 [==============================] - 2s 40us/sample - loss: 0.0989 - accuracy: 0.9626\n",
      "Epoch 50/50\n",
      "60000/60000 [==============================] - 2s 40us/sample - loss: 0.0956 - accuracy: 0.9638\n",
      "<tensorflow.python.keras.callbacks.History object at 0x7f9fcc7f67b8>\n",
      "Time:  117.93696300800366\n"
     ]
    }
   ],
   "source": [
    "start = timeit.default_timer()\n",
    "\n",
    "print(model.fit(train_data, train_labels, epochs=50, verbose=1))\n",
    "\n",
    "stop = timeit.default_timer()\n",
    "\n",
    "print('Time: ', stop - start)"
   ]
  },
  {
   "cell_type": "code",
   "execution_count": 12,
   "metadata": {},
   "outputs": [
    {
     "name": "stdout",
     "output_type": "stream",
     "text": [
      "[0.5089136445343494, 0.8855]\n",
      "Time:  0.35111355599656235\n"
     ]
    }
   ],
   "source": [
    "start = timeit.default_timer()\n",
    "\n",
    "print(model.evaluate(x = test_data, y = test_labels, verbose=0))\n",
    "\n",
    "stop = timeit.default_timer()\n",
    "\n",
    "print('Time: ', stop - start)"
   ]
  },
  {
   "cell_type": "code",
   "execution_count": null,
   "metadata": {},
   "outputs": [],
   "source": []
  },
  {
   "cell_type": "markdown",
   "metadata": {},
   "source": [
    "## Convolution Layer\n",
    "\n",
    "Getting same accuracy in very less epochs due to conv layers as it uses feature extraction and reduces noisy features"
   ]
  },
  {
   "cell_type": "code",
   "execution_count": 80,
   "metadata": {},
   "outputs": [],
   "source": [
    "train_data = train_data / 255.0\n",
    "test_data = test_data / 255.0"
   ]
  },
  {
   "cell_type": "code",
   "execution_count": 81,
   "metadata": {},
   "outputs": [],
   "source": [
    "train_data = train_data.reshape(train_data.shape[0], 28, 28, 1)\n",
    "test_data = test_data.reshape(test_data.shape[0], 28, 28, 1)"
   ]
  },
  {
   "cell_type": "code",
   "execution_count": 83,
   "metadata": {},
   "outputs": [],
   "source": [
    "model = keras.models.Sequential([\n",
    "    keras.layers.Conv2D(64, (3, 3), activation='relu', input_shape=(28, 28, 1)),\n",
    "    keras.layers.MaxPooling2D(2, 2),\n",
    "    keras.layers.Conv2D(64, (3, 3), activation='relu'),\n",
    "    keras.layers.MaxPooling2D(2, 2),\n",
    "    keras.layers.Flatten(),\n",
    "    keras.layers.Dense(units = 128, activation='relu'),\n",
    "    keras.layers.Dense(units=10, activation='softmax')\n",
    "])"
   ]
  },
  {
   "cell_type": "code",
   "execution_count": 84,
   "metadata": {},
   "outputs": [
    {
     "name": "stdout",
     "output_type": "stream",
     "text": [
      "Model: \"sequential_13\"\n",
      "_________________________________________________________________\n",
      "Layer (type)                 Output Shape              Param #   \n",
      "=================================================================\n",
      "conv2d_11 (Conv2D)           (None, 26, 26, 64)        640       \n",
      "_________________________________________________________________\n",
      "max_pooling2d_10 (MaxPooling (None, 13, 13, 64)        0         \n",
      "_________________________________________________________________\n",
      "conv2d_12 (Conv2D)           (None, 11, 11, 64)        36928     \n",
      "_________________________________________________________________\n",
      "max_pooling2d_11 (MaxPooling (None, 5, 5, 64)          0         \n",
      "_________________________________________________________________\n",
      "flatten_13 (Flatten)         (None, 1600)              0         \n",
      "_________________________________________________________________\n",
      "dense_26 (Dense)             (None, 128)               204928    \n",
      "_________________________________________________________________\n",
      "dense_27 (Dense)             (None, 10)                1290      \n",
      "=================================================================\n",
      "Total params: 243,786\n",
      "Trainable params: 243,786\n",
      "Non-trainable params: 0\n",
      "_________________________________________________________________\n"
     ]
    }
   ],
   "source": [
    "model.summary()"
   ]
  },
  {
   "cell_type": "code",
   "execution_count": 85,
   "metadata": {},
   "outputs": [],
   "source": [
    "model.compile(\n",
    "    optimizer = keras.optimizers.Adam(learning_rate=0.001),\n",
    "    loss = 'sparse_categorical_crossentropy',\n",
    "    metrics = ['accuracy']\n",
    ")"
   ]
  },
  {
   "cell_type": "code",
   "execution_count": null,
   "metadata": {},
   "outputs": [
    {
     "name": "stdout",
     "output_type": "stream",
     "text": [
      "Train on 60000 samples\n",
      "Epoch 1/50\n",
      "60000/60000 [==============================] - 25s 417us/sample - loss: 0.4414 - accuracy: 0.8399\n",
      "Epoch 2/50\n",
      "60000/60000 [==============================] - 30s 498us/sample - loss: 0.2949 - accuracy: 0.8914\n",
      "Epoch 3/50\n",
      "60000/60000 [==============================] - 30s 503us/sample - loss: 0.2491 - accuracy: 0.9077\n",
      "Epoch 4/50\n",
      "60000/60000 [==============================] - 30s 498us/sample - loss: 0.2180 - accuracy: 0.9184\n",
      "Epoch 5/50\n",
      "60000/60000 [==============================] - 29s 491us/sample - loss: 0.1909 - accuracy: 0.9289\n",
      "Epoch 6/50\n",
      "60000/60000 [==============================] - 29s 476us/sample - loss: 0.1677 - accuracy: 0.9362\n",
      "Epoch 7/50\n",
      "60000/60000 [==============================] - 30s 508us/sample - loss: 0.1477 - accuracy: 0.9434\n",
      "Epoch 8/50\n",
      "60000/60000 [==============================] - 32s 535us/sample - loss: 0.1289 - accuracy: 0.9505\n",
      "Epoch 9/50\n",
      "60000/60000 [==============================] - 33s 548us/sample - loss: 0.1135 - accuracy: 0.9571\n",
      "Epoch 10/50\n",
      "60000/60000 [==============================] - 33s 558us/sample - loss: 0.0994 - accuracy: 0.9609\n",
      "Epoch 11/50\n",
      "60000/60000 [==============================] - 34s 563us/sample - loss: 0.0886 - accuracy: 0.9664\n",
      "Epoch 12/50\n",
      "60000/60000 [==============================] - 35s 581us/sample - loss: 0.0785 - accuracy: 0.9699\n",
      "Epoch 13/50\n",
      "49600/60000 [=======================>......] - ETA: 5s - loss: 0.0664 - accuracy: 0.9749"
     ]
    }
   ],
   "source": [
    "start = timeit.default_timer()\n",
    "\n",
    "print(model.fit(train_data, train_labels, epochs=50, verbose=1))\n",
    "\n",
    "stop = timeit.default_timer()\n",
    "\n",
    "print('Time: ', stop - start)"
   ]
  },
  {
   "cell_type": "code",
   "execution_count": 89,
   "metadata": {},
   "outputs": [
    {
     "name": "stdout",
     "output_type": "stream",
     "text": [
      "[0.4534188562698662, 0.9062]\n",
      "Time:  1.9241684740118217\n"
     ]
    }
   ],
   "source": [
    "start = timeit.default_timer()\n",
    "\n",
    "print(model.evaluate(x = test_data, y = test_labels, verbose=0))\n",
    "\n",
    "stop = timeit.default_timer()\n",
    "\n",
    "print('Time: ', stop - start)"
   ]
  },
  {
   "cell_type": "code",
   "execution_count": null,
   "metadata": {},
   "outputs": [],
   "source": []
  }
 ],
 "metadata": {
  "kernelspec": {
   "display_name": "ml2",
   "language": "python",
   "name": "ml2"
  },
  "language_info": {
   "codemirror_mode": {
    "name": "ipython",
    "version": 3
   },
   "file_extension": ".py",
   "mimetype": "text/x-python",
   "name": "python",
   "nbconvert_exporter": "python",
   "pygments_lexer": "ipython3",
   "version": "3.5.2"
  }
 },
 "nbformat": 4,
 "nbformat_minor": 2
}
